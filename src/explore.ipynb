{
    "cells": [
        {
            "cell_type": "markdown",
            "metadata": {},
            "source": [
                "# Explore here"
            ]
        },
        {
            "cell_type": "code",
            "execution_count": null,
            "metadata": {},
            "outputs": [
                {
                    "name": "stdout",
                    "output_type": "stream",
                    "text": [
                        "                                                 url  is_spam\n",
                        "0  https://briefingday.us8.list-manage.com/unsubs...     True\n",
                        "1                             https://www.hvper.com/     True\n",
                        "2                 https://briefingday.com/m/v4n3i4f3     True\n",
                        "3   https://briefingday.com/n/20200618/m#commentform    False\n",
                        "4                        https://briefingday.com/fan     True\n"
                    ]
                }
            ],
            "source": [
                "import pandas as pd\n",
                "from sklearn.model_selection import train_test_split\n",
                "from sklearn.feature_extraction.text import TfidfVectorizer\n",
                "from sklearn.model_selection import GridSearchCV\n",
                "import re\n",
                "from sklearn.svm import SVC\n",
                "from sklearn.metrics import classification_report\n",
                "from sklearn.model_selection import GridSearchCV\n",
                "\n",
                "url = \"https://breathecode.herokuapp.com/asset/internal-link?id=435&path=url_spam.csv\"\n",
                "df = pd.read_csv(url)\n",
                "print(df.head())"
            ]
        },
        {
            "cell_type": "code",
            "execution_count": 14,
            "metadata": {},
            "outputs": [
                {
                    "name": "stdout",
                    "output_type": "stream",
                    "text": [
                        "Index(['url', 'is_spam', 'clean_url'], dtype='object')\n"
                    ]
                }
            ],
            "source": [
                "print(df.columns)"
            ]
        },
        {
            "cell_type": "code",
            "execution_count": null,
            "metadata": {},
            "outputs": [],
            "source": [
                "def preprocess_url(url):\n",
                "    url = str(url).lower()  \n",
                "    url = re.sub(r'[^\\w]', ' ', url)  \n",
                "    url = re.sub(r'\\s+', ' ', url)  \n",
                "    return url.strip()\n",
                "\n",
                "df['clean_url'] = df['url'].apply(preprocess_url)\n",
                "\n",
                "\n",
                "df = df[df['clean_url'].str.strip() != '']\n",
                "\n",
                "\n",
                "vectorizer = TfidfVectorizer()\n",
                "X = vectorizer.fit_transform(df['clean_url'])\n",
                "\n",
                "y = df['is_spam']\n",
                "\n",
                "X_train, X_test, y_train, y_test = train_test_split(X, y, test_size=0.2, random_state=42)\n"
            ]
        },
        {
            "cell_type": "code",
            "execution_count": 15,
            "metadata": {},
            "outputs": [
                {
                    "name": "stdout",
                    "output_type": "stream",
                    "text": [
                        "              precision    recall  f1-score   support\n",
                        "\n",
                        "       False       0.95      1.00      0.97       455\n",
                        "        True       0.98      0.83      0.90       145\n",
                        "\n",
                        "    accuracy                           0.96       600\n",
                        "   macro avg       0.97      0.92      0.94       600\n",
                        "weighted avg       0.96      0.96      0.96       600\n",
                        "\n"
                    ]
                }
            ],
            "source": [
                "model = SVC()\n",
                "model.fit(X_train, y_train)\n",
                "y_pred = model.predict(X_test)\n",
                "print(classification_report(y_test, y_pred))"
            ]
        },
        {
            "cell_type": "code",
            "execution_count": 18,
            "metadata": {},
            "outputs": [
                {
                    "name": "stdout",
                    "output_type": "stream",
                    "text": [
                        "Best parameters: {'C': 10, 'kernel': 'rbf'}\n",
                        "Best score: 0.9666579679888656\n"
                    ]
                }
            ],
            "source": [
                "param_grid = {\n",
                "    'C': [0.1, 1, 10],\n",
                "    'kernel': ['linear', 'rbf']\n",
                "}\n",
                "\n",
                "grid = GridSearchCV(SVC(), param_grid, cv=5)\n",
                "grid.fit(X_train, y_train)\n",
                "\n",
                "print(\"Best parameters:\", grid.best_params_)\n",
                "print(\"Best score:\", grid.best_score_)"
            ]
        },
        {
            "cell_type": "code",
            "execution_count": 20,
            "metadata": {},
            "outputs": [
                {
                    "data": {
                        "text/plain": [
                            "['spam_url_detector.pkl']"
                        ]
                    },
                    "execution_count": 20,
                    "metadata": {},
                    "output_type": "execute_result"
                }
            ],
            "source": [
                "import joblib\n",
                "joblib.dump(grid.best_estimator_, 'spam_url_detector.pkl')"
            ]
        }
    ],
    "metadata": {
        "kernelspec": {
            "display_name": "Python 3",
            "language": "python",
            "name": "python3"
        },
        "language_info": {
            "codemirror_mode": {
                "name": "ipython",
                "version": 3
            },
            "file_extension": ".py",
            "mimetype": "text/x-python",
            "name": "python",
            "nbconvert_exporter": "python",
            "pygments_lexer": "ipython3",
            "version": "3.11.4"
        },
        "orig_nbformat": 4
    },
    "nbformat": 4,
    "nbformat_minor": 2
}
